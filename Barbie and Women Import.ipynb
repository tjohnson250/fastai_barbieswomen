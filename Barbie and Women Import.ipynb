{
 "cells": [
  {
   "cell_type": "code",
   "execution_count": 1,
   "metadata": {},
   "outputs": [
    {
     "name": "stdout",
     "output_type": "stream",
     "text": [
      "Requirement already satisfied: google_images_download in /anaconda3/lib/python3.6/site-packages (2.4.2)\r\n",
      "Requirement already satisfied: selenium in /anaconda3/lib/python3.6/site-packages (from google_images_download) (3.14.1)\r\n",
      "Requirement already satisfied: urllib3 in /anaconda3/lib/python3.6/site-packages (from selenium->google_images_download) (1.23)\r\n"
     ]
    }
   ],
   "source": [
    "import sys\n",
    "!{sys.executable} -m pip install google_images_download"
   ]
  },
  {
   "cell_type": "code",
   "execution_count": 2,
   "metadata": {},
   "outputs": [],
   "source": [
    "from google_images_download import google_images_download"
   ]
  },
  {
   "cell_type": "code",
   "execution_count": 3,
   "metadata": {},
   "outputs": [],
   "source": [
    "response = google_images_download.googleimagesdownload()"
   ]
  },
  {
   "cell_type": "code",
   "execution_count": 52,
   "metadata": {},
   "outputs": [
    {
     "name": "stdout",
     "output_type": "stream",
     "text": [
      "\n",
      "Item no.: 1 --> Item name = doll\n",
      "Evaluating...\n",
      "Getting you a lot of images. This may take a few moments...\n",
      "Reached end of Page.\n",
      "Starting Download...\n",
      "Completed Image ====> doll 1. barbie-1841835_960_720.jpg\n",
      "Completed Image ====> doll 2. german_antique_doll.jpg\n",
      "Completed Image ====> doll 3. pink-toy-baby-doll-knitting-doll-dress-toddler-redhead-doll-doll-paola-reina-toys-for-girls-1193391.jpg\n",
      "Completed Image ====> doll 4. retro-attire-costume-lady-baby-doll-cap-dress-1541545.jpg\n",
      "Completed Image ====> doll 5. girl-toy-baby-doll-doll-illustration-figurine-action-figure-author's-dolls-porcelain-dolls-851037.jpg\n",
      "Completed Image ====> doll 6. baby-doll-976357_960_720.jpg\n",
      "Completed Image ====> doll 7. doll-fig-girl-toys-38916.jpeg\n",
      "Completed Image ====> doll 8. doll-toys-faces-girl-dolls-head-1523829.jpg\n",
      "Completed Image ====> doll 9. pexels-photo-293271.jpeg\n",
      "Completed Image ====> doll 10. ooak_kelly_dolls_by_tabloach-d32phh4.jpg\n",
      "Completed Image ====> doll 11. girl-dance-baby-doll-dancer-sports-figurine-dancing-entertainment-gypsy-performing-arts-spanish-woman-team-sport-author's-dolls-porcelain-dolls-costume-design-687977.jpg\n",
      "Completed Image ====> doll 12. baby_doll-calineczka-original-2006.jpg\n",
      "Completed Image ====> doll 13. violin-1591956_960_720.jpg\n",
      "Completed Image ====> doll 14. raggedy_ann_doll.jpg\n",
      "Completed Image ====> doll 15. doll-face-with-blue-eyes.jpg\n",
      "Completed Image ====> doll 16. beauty-pretty-charming-barbie-doll-children-toys-1260975.jpg\n",
      "Completed Image ====> doll 17. 2017-11-03-23-23-29-1200x799.jpg\n",
      "Completed Image ====> doll 18. baby-doll-2023706_960_720.jpg\n",
      "Completed Image ====> doll 19. clothing-pink-toy-doll-toys-magenta-costume-barbie-fashion-doll-pink-hair-1057177.jpg\n",
      "Completed Image ====> doll 20. stock_04__doll_2_by_disenchantedmuse-dbshek2.jpg\n",
      "Completed Image ====> doll 21. doll.jpg\n",
      "Completed Image ====> doll 22. 2017-11-03-23-23-09-1200x800.jpg\n",
      "Completed Image ====> doll 23. 3449721171_dfcc8c7c8a_b.jpg\n",
      "Completed Image ====> doll 24. handmade-diy-dolls-doll-dancer-44572.jpg\n",
      "Completed Image ====> doll 25. 5064866766_c0cb687485_b.jpg\n",
      "Completed Image ====> doll 26. barbie-film-camera-portrait-posing-doll-pose-1710709.jpg\n",
      "Completed Image ====> doll 27. girl-doll-for-children.jpg\n",
      "Completed Image ====> doll 28. girl-doll.jpg\n",
      "Completed Image ====> doll 29. doll-917679_960_720.jpg\n",
      "Completed Image ====> doll 30. 2018-07-19-16-59-00.jpg\n",
      "Completed Image ====> doll 31. baby-girl-and-doll-871294933022vib.jpg\n",
      "Completed Image ====> doll 32. stock_03__doll_1_by_disenchantedmuse-dbsheal.jpg\n",
      "Completed Image ====> doll 33. barbie-barbara-millicent-roberts-doll-blonde-157636.jpeg\n",
      "Completed Image ====> doll 34. my_child_dolls.jpg\n",
      "Completed Image ====> doll 35. handmade-diy-dolls-doll-girl-44585.jpg\n",
      "Completed Image ====> doll 36. 800px-doll_%28am_1970.218-4%29.jpg\n",
      "Completed Image ====> doll 37. doll-boy-cheeky-toys-160472.jpeg\n",
      "Completed Image ====> doll 38. 2017-03-09-09-32-22.jpg\n",
      "Completed Image ====> doll 39. antique-dolls-929448_960_720.jpg\n",
      "Completed Image ====> doll 40. 23906081988_c48d6c22fc_b.jpg\n",
      "Completed Image ====> doll 41. doll-toys-puppet-music-1166ad-1024.jpg\n",
      "Completed Image ====> doll 42. doll-1468912981u3s.jpg\n",
      "Completed Image ====> doll 43. collectible-childhood-porcelain-baby-doll-classic-2735390.jpg\n",
      "Completed Image ====> doll 44. diy-handmade-new-photos-doll-girl-44554.jpg\n",
      "Completed Image ====> doll 45. dressed_dutch_doll_gr%c3%b6den.jpg\n",
      "Completed Image ====> doll 46. amish_dolls.jpg\n",
      "Completed Image ====> doll 47. red-toy-baby-doll-doll-art-dress-sweetness-dorothy-red-shoes-lake-country-638601.jpg\n",
      "Completed Image ====> doll 48. 38527225816_2b8acbe7f6_b.jpg\n",
      "Completed Image ====> doll 49. 4397872605_4b0ea9d02f_b.jpg\n",
      "Completed Image ====> doll 50. girl-907931_960_720.jpg\n",
      "Completed Image ====> doll 51. 2017-11-03-23-23-22-1200x776.jpg\n",
      "Completed Image ====> doll 52. scarecrow-doll-fall-e809b7-1024.jpg\n",
      "Completed Image ====> doll 53. doll-face-hairstyle-doll-head-face-toys-barbie-2186957.jpg\n",
      "Completed Image ====> doll 54. collector-s-doll-angel-guardian-angel-sad-160720.jpeg\n",
      "Completed Image ====> doll 55. flea-market-doll-girl-toy-1394287.jpg\n",
      "Completed Image ====> doll 56. vintage-doll-1502128044gai.jpg\n",
      "Completed Image ====> doll 57. diy-handmade-new-photos-porcelain-doll-44553.jpg\n",
      "Completed Image ====> doll 58. girl-play-portrait-blue-toy-baby-doll-doll-children-three-figurine-lego-trio-anime-girlfriends-lego-friends-640386.jpg\n",
      "Completed Image ====> doll 59. china_doll_heads%2c_1750-1870_-_fairbanks_museum_and_planetarium_-_dsc04299.jpg\n",
      "Completed Image ====> doll 60. face-doll-winter-cap-display-dummy-woman-charming-1987051.jpg\n",
      "Completed Image ====> doll 61. doll-1105609_960_720.jpg\n",
      "Completed Image ====> doll 62. 5224736388_e02075d1f1_b.jpg\n",
      "Completed Image ====> doll 63. baby-baby-doll-doll-artist-doll-stuffed-animal-1197969.jpg\n",
      "Completed Image ====> doll 64. doll-japanese.jpg\n",
      "Completed Image ====> doll 65. dolls-tender-smooch-424d8b-1024.jpg\n",
      "Completed Image ====> doll 66. girl-doll-toy-former-557873.jpg\n",
      "Completed Image ====> doll 67. diy-handmade-new-photos-doll-traveler-44584.jpg\n",
      "Completed Image ====> doll 68. girl-statue-toy-baby-doll-doll-art-illustration-figurine-author's-dolls-porcelain-dolls-costume-design-687962.jpg\n",
      "Completed Image ====> doll 69. doll_by_momokochaan-d9yvdqs.jpg\n",
      "Completed Image ====> doll 70. inuit_doll.jpg\n",
      "Completed Image ====> doll 71. 2017-11-03-23-23-40-1200x847.jpg\n",
      "Completed Image ====> doll 72. isolated-heidi-doll.jpg\n",
      "Completed Image ====> doll 73. vintage-doll-on-the-grass.jpg\n",
      "Completed Image ====> doll 74. daruma_doll%2c_cut_out%2c_03.jpg\n",
      "Completed Image ====> doll 75. 26301845553_04afa84eb8_b.jpg\n",
      "Completed Image ====> doll 76. baby-sweet-artist-doll-cute-doll-baby-doll-small-1197915.jpg\n",
      "Completed Image ====> doll 77. sissel_bj%c3%b8rstad_skille_doll_04_b.jpg\n",
      "Completed Image ====> doll 78. doll-2575875_960_720.jpg\n",
      "Completed Image ====> doll 79. 5800635184_0e7b1b4310_b.jpg\n",
      "Completed Image ====> doll 80. toy-baby-doll-figurine-cartoon-stuffed-toy-author's-dolls-porcelain-dolls-851044.jpg\n",
      "Completed Image ====> doll 81. shirley-temple-doll-513x544.jpg\n",
      "Completed Image ====> doll 82. handmade-diy-dolls-porcelain-doll-44528.jpg\n",
      "Completed Image ====> doll 83. toy-dress-cloth-doll-old-toy-2006773.jpg\n",
      "Completed Image ====> doll 84. child-doll-girl-curly-people-cute-hair-portrait-3074398.jpg\n",
      "Completed Image ====> doll 85. sad-clown-face-on-doll.jpg\n",
      "Completed Image ====> doll 86. pexels-photo-266003.jpeg\n",
      "Completed Image ====> doll 87. robert_the_doll_%285999680656%29.jpg\n",
      "Completed Image ====> doll 88. doll-1197849_960_720.jpg\n",
      "Completed Image ====> doll 89. pierced_doll_by_velzev.jpg\n",
      "Completed Image ====> doll 90. 302834037_47e606016a_b.jpg\n",
      "Completed Image ====> doll 91. red_by_doll_face_sim-d9srhtg.jpg\n",
      "Completed Image ====> doll 92. a-living-doll.jpg\n",
      "Completed Image ====> doll 93. black_dolls.jpg\n",
      "Completed Image ====> doll 94. lena__dark_caster__doll_by_animeidee-d5rshmb.jpg\n",
      "Completed Image ====> doll 95. play-toy-doll-children-rosa-dolls-barbie-fuxia-902237.jpg\n",
      "Completed Image ====> doll 96. toys-doll-child-historically-blue-eye-boy-face-2479534.jpg\n",
      "Completed Image ====> doll 97. 16_cm_tiny_bjd_leffy_by_dollb.jpg\n",
      "Completed Image ====> doll 98. doll-3361741_960_720.jpg\n",
      "Completed Image ====> doll 99. doll-face.jpg\n",
      "Completed Image ====> doll 100. handmade-diy-dolls-doll-clothes-48545.jpg\n",
      "Completed Image ====> doll 101. doll-antique-vintage-doll-handmade-porcelain-doll-2862964.jpg\n",
      "Completed Image ====> doll 102. dutch_doll_from_gr%c3%b6den.jpg\n",
      "Completed Image ====> doll 103. 36861035731_b5da10b440_b.jpg\n",
      "Completed Image ====> doll 104. pexels-photo-266745.jpeg\n",
      "Completed Image ====> doll 105. artesan%c3%adas_de_san_%c3%81ngel%2c_ciudad_de_m%c3%a9xico._12.jpg\n",
      "Completed Image ====> doll 106. living_dead_doll_repaint_by_tabloach-d32phqv.jpg\n",
      "Completed Image ====> doll 107. rag-doll-20851287391455uaxq.jpg\n",
      "Completed Image ====> doll 108. evil_doll_by_chillvibes1-dbao2az.jpg\n",
      "Completed Image ====> doll 109. cute-cry-children-girl-funny-doll-toys-sweet-1637155.jpg\n",
      "Completed Image ====> doll 110. game-blue-clothing-toy-baby-doll-dress-figurine-gown-ornaments-polish-folk-costumes-620723.jpg\n",
      "Completed Image ====> doll 111. pexels-photo-571927.jpeg\n",
      "Completed Image ====> doll 112. 091221-f-1234s-005.jpg\n",
      "Completed Image ====> doll 113. 26241331627_9dcaa8ef0e_b.jpg\n",
      "Completed Image ====> doll 114. balljointed_bisque_head_doll.jpg\n",
      "Completed Image ====> doll 115. doll-3098011_960_720.jpg\n",
      "Completed Image ====> doll 116. vintage_bradley_dolls_from_japan.jpg\n",
      "Completed Image ====> doll 117. sculpture-new-photos-christmas-doll-49573.jpg\n",
      "Completed Image ====> doll 118. 29725397694_d70527cc5f_b.jpg\n",
      "Completed Image ====> doll 119. like-a-doll.jpg\n",
      "Completed Image ====> doll 120. 2017-11-03-23-22-55.jpg\n",
      "Completed Image ====> doll 121. beauty-pretty-barbie-children-toys-charming-doll-1265495.jpg\n",
      "Completed Image ====> doll 122. girl-hair-play-pink-toy-hairstyle-playful-long-hair-face-doll-children-dress-figure-eye-head-toys-skin-beauty-beautiful-blond-pretty-barbie-charming-children-toys-brown-hair-girls-toys-doll-face-dolls-picture-644319.jpg\n",
      "Completed Image ====> doll 123. deviant_dolls_003_by_22a_3_dfoc.jpg\n",
      "Completed Image ====> doll 124. beauty-pretty-doll-play-girl-hair-face-eyes-1267817.jpg\n",
      "Completed Image ====> doll 125. 150227-m-qa203-008.jpg\n",
      "Completed Image ====> doll 126. sad_dollsad_doll_by_cartoonjj-daas3uj.jpg\n",
      "Completed Image ====> doll 127. clannad_garbage_doll_2_by_kathy99fma-d62fn8j.jpg\n",
      "Completed Image ====> doll 128. doll-creepy-spooky-horror-39346.jpeg\n",
      "Completed Image ====> doll 129. overlay?src0=https%3a%2f%2fi.vimeocdn.com%2fvideo%2f583364092_1280x1280.jpg&src1=https%3a%2f%2ff.vimeocdn.com%2fimages_v6%2fshare%2fplay_icon_overlay.png.jpg\n",
      "Completed Image ====> doll 130. voodoo_doll_louvre_e27145b.jpg\n",
      "Completed Image ====> doll 131. 4681444479_217f6f461c_b.jpg\n",
      "Completed Image ====> doll 132. sad-doll-face.jpg\n",
      "Completed Image ====> doll 133. diy-handmade-new-photos-porcelain-doll-44529.jpg\n",
      "Completed Image ====> doll 134. doll-3081004_960_720.jpg\n",
      "Completed Image ====> doll 135. world_uranus_by_sakkysmoonbag.jpg\n",
      "Completed Image ====> doll 136. 2017-11-30-17-57-47-1200x542.jpg\n",
      "Completed Image ====> doll 137. scary-doll-1106612990857888sg.jpg\n",
      "Completed Image ====> doll 138. 4128595_76b143d638.jpg\n",
      "Completed Image ====> doll 139. kokeshi-japanese-dolls-japanese-cut-out-asian-doll-972000.jpg\n",
      "Completed Image ====> doll 140. 160629-a-cu196-051.jpg\n",
      "Completed Image ====> doll 141. kitsch-junk-doll-browse-old-flea-market-2465722.jpg\n",
      "Completed Image ====> doll 142. white-child-pink-christmas-toy-doll-angel-dress-figure-eye-head-figurine-skin-sweetness-1002256.jpg\n",
      "Completed Image ====> doll 143. pexels-photo-1020504.jpeg\n",
      "Completed Image ====> doll 144. 2154081875_eef8f5e7aa_b.jpg\n",
      "Completed Image ====> doll 145. doll-face-display-dummy-woman-beauty-fashion-204462-1024.jpg\n",
      "Completed Image ====> doll 146. doll%2c_mohave%2c_acquired_in_1912_-_native_american_collection_-_peabody_museum%2c_harvard_university_-_dsc05514.jpg\n",
      "Completed Image ====> doll 147. diy-handmade-new-photos-doll-princess-44524.jpg\n",
      "Completed Image ====> doll 148. creepy-dolls-face.jpg\n",
      "Completed Image ====> doll 149. possessed_doll_by_desibear15-dbbrpnq.jpg\n",
      "Completed Image ====> doll 150. scary_doll_by_omaradli-dadm4dd.jpg\n",
      "Completed Image ====> doll 151. 2017-04-29-11-13-12.jpg\n",
      "Completed Image ====> doll 152. doll-on-the-beach.jpg\n",
      "Completed Image ====> doll 153. pussycat_dolls_casino.jpg\n",
      "Completed Image ====> doll 154. creepy_doll_by_stocks_effulgent-d37fvyy.jpg\n",
      "Completed Image ====> doll 155. clown-flea-market-toys-doll-1394134.jpg\n",
      "Completed Image ====> doll 156. doll-1197631_960_720.jpg\n",
      "Completed Image ====> doll 157. person-girl-child-pink-toy-baby-doll-face-doll-infant-toddler-eye-cap-ears-skin-soft-sweetness-newborn-doll-604966.jpg\n",
      "Completed Image ====> doll 158. antique-dolls-doll-tea-feminine-collect-childhood-2192473.jpg\n",
      "Completed Image ====> doll 159. ariel_doll_by_strato_cat-d6faqvl.jpg\n",
      "Completed Image ====> doll 160. tammy__maiko__s_doll__mnf_soo_by_e_kun07yukino.jpg\n",
      "Completed Image ====> doll 161. 4944878_af4189c4.jpg\n",
      "Completed Image ====> doll 162. old_harlequin_porcelain_mardigras_doll_new_orleans_usa_-_6638.jpg\n",
      "Completed Image ====> doll 163. 4768429_88d31586.jpg\n",
      "Completed Image ====> doll 164. pexels-photo-942202.jpeg\n",
      "Completed Image ====> doll 165. folk-toy-dolls-doll-costume-39219.jpg\n",
      "Completed Image ====> doll 166. doll-display-dummy-decoration-beauty-fashion-431116-1024.jpg\n",
      "Completed Image ====> doll 167. 2018-07-19-17-34-17-1200x895.jpg\n",
      "Completed Image ====> doll 168. _mmd__miku_doll_by_manglecz1-da2ke6g.jpg\n",
      "Completed Image ====> doll 169. scary-doll-2-110661299086666yjg.jpg\n",
      "Completed Image ====> doll 170. 2869333_ed9fd54f.jpg\n",
      "Completed Image ====> doll 171. 151017-a-za091-772.jpg\n",
      "Completed Image ====> doll 172. pattern-clothing-toy-doll-design-toddler-porcelain-doll-662036.jpg\n",
      "Completed Image ====> doll 173. porcelain-doll-1557049_960_720.jpg\n",
      "Completed Image ====> doll 174. bad_friends_trio_france_paper_doll_by_msstacykrueger-d4fonh3.jpg\n",
      "Completed Image ====> doll 175. dark-vintage-old-doll-goth-game-girl-porcelain-72039.jpg\n",
      "Completed Image ====> doll 176. 8754568520_fc3c22404f_b.jpg\n",
      "Completed Image ====> doll 177. pussycat_dolls_performing_buttons.jpg\n",
      "Completed Image ====> doll 178. broken_doll_by_rabiren_chan-d8v8rmu.jpg\n",
      "Completed Image ====> doll 179. 5084758_f05398b5.jpg\n",
      "Completed Image ====> doll 180. doll-in-an-old-pram.jpg\n",
      "Completed Image ====> doll 181. edwad_scissorhands_doll_by_zengen.jpg\n",
      "Completed Image ====> doll 182. 160409-a-za091-025.jpg\n",
      "Completed Image ====> doll 183. display-dummy-doll-woman-fashionable-157591.jpeg\n",
      "Completed Image ====> doll 184. a_tanjore_doll.jpg\n",
      "Completed Image ====> doll 185. fashionable-doll-display-dummy-window-clothing-1076190.jpg\n",
      "Completed Image ====> doll 186. 2017-08-26-09-05-30.jpg\n",
      "Completed Image ====> doll 187. baby-doll-1460305741uri.jpg\n",
      "Completed Image ====> doll 188. 4768692_fa547353.jpg\n",
      "Completed Image ====> doll 189. diy-handmade-new-photos-porcelain-doll-44551.jpg\n",
      "Completed Image ====> doll 190. doll-1007276_960_720.jpg\n",
      "Completed Image ====> doll 191. girl-doll-pretty-friendship-barbie-girlfriends-1640774.jpg\n",
      "Completed Image ====> doll 192. toy-baby-doll-doll-art-crafts-figurine-handmade-textiles-827241.jpg\n",
      "Completed Image ====> doll 193. finger-puppet-hand-puppet-doll-animals-a324b8-1024.jpg\n",
      "Completed Image ====> doll 194. 41069552122_d0afee1938_b.jpg\n",
      "Completed Image ====> doll 195. bjd_akasha__impl_house__by_vampirevich-d4ybk0t.jpg\n",
      "Completed Image ====> doll 196. japanese_doll_by_candycait-d3ib2yg.jpg\n",
      "Completed Image ====> doll 197. doll-face-closeup.jpg\n",
      "Completed Image ====> doll 198. doll-1197952_960_720.jpg\n",
      "Completed Image ====> doll 199. 2017-10-31-12-38-56.jpg\n",
      "Completed Image ====> doll 200. doll-face-children-toys-toys-doll-girl-dolls-head-2287565.jpg\n",
      "\n",
      "Errors: 0\n",
      "\n"
     ]
    }
   ],
   "source": [
    "arguments = {\"keywords\":\"barbie\", \"prefix\":\"barbie\", \"limit\":200, \"format\":\"jpg\", \"usage_rights\":\"labeled-for-reuse\",\n",
    "             \"t\":\"photo\", \"output_directory\":\"barbieswomen\", \"chromedriver\":\"./chromedriver\"}\n",
    "paths = response.download(arguments)"
   ]
  },
  {
   "cell_type": "code",
   "execution_count": 12,
   "metadata": {},
   "outputs": [
    {
     "name": "stdout",
     "output_type": "stream",
     "text": [
      "\n",
      "Item no.: 1 --> Item name = woman\n",
      "Evaluating...\n",
      "Starting Download...\n",
      "Completed Image ====> woman 1. pexels-photo-733872.jpeg\n",
      "Completed Image ====> woman 2. portrait-2865605_960_720.jpg\n",
      "Completed Image ====> woman 3. pexels-photo-1036623.jpeg\n",
      "Completed Image ====> woman 4. woman-3219507_960_720.jpg\n",
      "Completed Image ====> woman 5. woman-3161009_960_720.jpg\n",
      "Completed Image ====> woman 6. vermeer-portrait_of_a_young_woman.jpg\n",
      "Completed Image ====> woman 7. nature-forest-grass-person-girl-woman-hiking-photography-sunlight-portrait-model-green-jungle-fashion-dress-photograph-beauty-beautiful-habitat-emotion-portrait-photography-natural-environment-942640.jpg\n",
      "Completed Image ====> woman 8. woman-2903042_960_720.jpg\n",
      "Completed Image ====> woman 9. outdoor-person-girl-woman-hair-photography-portrait-model-young-blue-lady-facial-expression-hairstyle-smile-long-hair-sad-face-eye-head-skin-beauty-blond-organ-serious-photo-shoot-brown-hair-portrait-photography-1293200.jpg\n",
      "Completed Image ====> woman 10. 14387367072_85312c31b3_b.jpg\n",
      "\n",
      "Errors: 0\n",
      "\n"
     ]
    }
   ],
   "source": [
    "arguments = {\"keywords\":\"woman\", \"prefix\":\"woman\", \"limit\":10, \"format\":\"jpg\", \"usage_rights\":\"labeled-for-reuse\",\n",
    "             \"t\":\"photo\", \"output_directory\":\"barbieswomen\"}\n",
    "paths = response.download(arguments)"
   ]
  },
  {
   "cell_type": "markdown",
   "metadata": {},
   "source": [
    "Review the images above and remove any images that do not belong to either class. "
   ]
  },
  {
   "cell_type": "markdown",
   "metadata": {},
   "source": [
    "Use Imagemagic to resize the images to save space and reduce processing time while learning. The following commands will add resized files named \"barbie-n.jpg\" and \"women-n.jpg\" to each directory. It will not delete the original images."
   ]
  },
  {
   "cell_type": "code",
   "execution_count": null,
   "metadata": {},
   "outputs": [],
   "source": [
    "!cd barbieswomen/barbies\n",
    "!convert convert -resize '640' *.jpg barbie.jpg\n",
    "!cd barbieswomen/women\n",
    "!convert convert -resize '640' *.jpg women.jpg"
   ]
  },
  {
   "cell_type": "markdown",
   "metadata": {},
   "source": [
    "If you are happy with the conversions, delete the original images. As an alternative to using convert, you can use mogrify to resize and replace your originals in one step:"
   ]
  },
  {
   "cell_type": "code",
   "execution_count": null,
   "metadata": {},
   "outputs": [],
   "source": [
    "#!cd barbieswomen/barbies\n",
    "#!mogrify convert -resize '640' *.jpg barbie.jpg\n",
    "#!cd barbieswomen/women\n",
    "#!mogrify convert -resize '640' *.jpg women.jpg"
   ]
  },
  {
   "cell_type": "markdown",
   "metadata": {},
   "source": [
    "Make the training and validation test sets using the fast.ai directory structure with 80% of the images in the training set and 20% in the validation set.\n",
    "\n",
    "This command downloads make_train_valid.py into the same directory as this notebook."
   ]
  },
  {
   "cell_type": "code",
   "execution_count": 24,
   "metadata": {},
   "outputs": [
    {
     "name": "stdout",
     "output_type": "stream",
     "text": [
      "  % Total    % Received % Xferd  Average Speed   Time    Time     Time  Current\n",
      "                                 Dload  Upload   Total   Spent    Left  Speed\n",
      "100  2097  100  2097    0     0  10033      0 --:--:-- --:--:-- --:--:-- 10081\n"
     ]
    }
   ],
   "source": [
    "!curl -O https://raw.githubusercontent.com/prairie-guy/ai_utilities/master/make_train_valid.py"
   ]
  },
  {
   "cell_type": "code",
   "execution_count": 28,
   "metadata": {},
   "outputs": [
    {
     "name": "stdout",
     "output_type": "stream",
     "text": [
      "barbieswomen/barbie/barbie 1. barbie-1591953_960_720.jpg barbieswomen/train/barbie/barbie 1. barbie-1591953_960_720.jpg\n",
      "barbieswomen/barbie/barbie 2. barbie-barbara-millicent-roberts-doll-blonde-157636.jpeg barbieswomen/train/barbie/barbie 2. barbie-barbara-millicent-roberts-doll-blonde-157636.jpeg\n",
      "barbieswomen/barbie/barbie 3. barbie-1841835_960_720.jpg barbieswomen/train/barbie/barbie 3. barbie-1841835_960_720.jpg\n",
      "barbieswomen/barbie/barbie 5. pexels-photo-164725.jpeg barbieswomen/train/barbie/barbie 5. pexels-photo-164725.jpeg\n",
      "barbieswomen/barbie/barbie 8. brunette-blonde-look-barbie-dolls-looking-1497805.jpg barbieswomen/train/barbie/barbie 8. brunette-blonde-look-barbie-dolls-looking-1497805.jpg\n",
      "barbieswomen/barbie/barbie 7. barbie-1565718_960_720.jpg barbieswomen/train/barbie/barbie 7. barbie-1565718_960_720.jpg\n",
      "barbieswomen/barbie/barbie 9. pexels-photo-274892.jpeg barbieswomen/train/barbie/barbie 9. pexels-photo-274892.jpeg\n",
      "barbieswomen/barbie/barbie 4. video-camera-filming-toy-doll-barbie-film-camera-1841835.jpg barbieswomen/train/barbie/barbie 4. video-camera-filming-toy-doll-barbie-film-camera-1841835.jpg\n",
      "barbieswomen/barbie/barbie 6. 6594382997_bda921ff06_b.jpg barbieswomen/valid/barbie/barbie 6. 6594382997_bda921ff06_b.jpg\n",
      "barbieswomen/barbie/barbie 10. music-girl-hair-play-cute-microphone-child-pink-toy-smile-sing-doll-happy-headphones-toddler-toys-beauty-joy-beautiful-blond-pretty-barbie-girls-toys-1047861.jpg barbieswomen/valid/barbie/barbie 10. music-girl-hair-play-cute-microphone-child-pink-toy-smile-sing-doll-happy-headphones-toddler-toys-beauty-joy-beautiful-blond-pretty-barbie-girls-toys-1047861.jpg\n",
      "barbieswomen/woman/woman 8. woman-2903042_960_720.jpg barbieswomen/train/woman/woman 8. woman-2903042_960_720.jpg\n",
      "barbieswomen/woman/woman 3. pexels-photo-1036623.jpeg barbieswomen/train/woman/woman 3. pexels-photo-1036623.jpeg\n",
      "barbieswomen/woman/woman 1. pexels-photo-733872.jpeg barbieswomen/train/woman/woman 1. pexels-photo-733872.jpeg\n",
      "barbieswomen/woman/woman 2. portrait-2865605_960_720.jpg barbieswomen/train/woman/woman 2. portrait-2865605_960_720.jpg\n",
      "barbieswomen/woman/woman 5. woman-3161009_960_720.jpg barbieswomen/train/woman/woman 5. woman-3161009_960_720.jpg\n",
      "barbieswomen/woman/woman 4. woman-3219507_960_720.jpg barbieswomen/train/woman/woman 4. woman-3219507_960_720.jpg\n",
      "barbieswomen/woman/woman 10. 14387367072_85312c31b3_b.jpg barbieswomen/train/woman/woman 10. 14387367072_85312c31b3_b.jpg\n",
      "barbieswomen/woman/woman 9. outdoor-person-girl-woman-hair-photography-portrait-model-young-blue-lady-facial-expression-hairstyle-smile-long-hair-sad-face-eye-head-skin-beauty-blond-organ-serious-photo-shoot-brown-hair-portrait-photography-1293200.jpg barbieswomen/train/woman/woman 9. outdoor-person-girl-woman-hair-photography-portrait-model-young-blue-lady-facial-expression-hairstyle-smile-long-hair-sad-face-eye-head-skin-beauty-blond-organ-serious-photo-shoot-brown-hair-portrait-photography-1293200.jpg\n",
      "barbieswomen/woman/woman 7. nature-forest-grass-person-girl-woman-hiking-photography-sunlight-portrait-model-green-jungle-fashion-dress-photograph-beauty-beautiful-habitat-emotion-portrait-photography-natural-environment-942640.jpg barbieswomen/valid/woman/woman 7. nature-forest-grass-person-girl-woman-hiking-photography-sunlight-portrait-model-green-jungle-fashion-dress-photograph-beauty-beautiful-habitat-emotion-portrait-photography-natural-environment-942640.jpg\n",
      "barbieswomen/woman/woman 6. vermeer-portrait_of_a_young_woman.jpg barbieswomen/valid/woman/woman 6. vermeer-portrait_of_a_young_woman.jpg\n"
     ]
    }
   ],
   "source": [
    "%run make_train_valid.py barbieswomen --train .80 --valid .20"
   ]
  }
 ],
 "metadata": {
  "kernelspec": {
   "display_name": "Python 3",
   "language": "python",
   "name": "python3"
  },
  "language_info": {
   "codemirror_mode": {
    "name": "ipython",
    "version": 3
   },
   "file_extension": ".py",
   "mimetype": "text/x-python",
   "name": "python",
   "nbconvert_exporter": "python",
   "pygments_lexer": "ipython3",
   "version": "3.6.6"
  }
 },
 "nbformat": 4,
 "nbformat_minor": 2
}
